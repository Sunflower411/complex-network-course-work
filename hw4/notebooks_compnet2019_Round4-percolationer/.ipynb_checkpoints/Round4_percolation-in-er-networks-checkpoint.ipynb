{
 "cells": [
  {
   "cell_type": "markdown",
   "metadata": {
    "deletable": false,
    "editable": false,
    "nbgrader": {
     "cell_type": "markdown",
     "checksum": "6d2472c0a6b518def52940373b59fce1",
     "grade": false,
     "grade_id": "cell-1128b088674d397d",
     "locked": true,
     "schema_version": 3,
     "solution": false,
     "task": false
    }
   },
   "source": [
    "# Round 4. Percolation in Erdös-Rényi (ER) networks\n",
    "\n",
    "Erdös-Rényi networks are random networks where $N$ nodes are randomly connected such that the probability that a pair of nodes is linked is $p$.\n",
    "In network science, the ER random graphs are important because they provide the simplest reference to which one can compare real-world networks. Many interesting real networks are very large (in number of nodes) and sparse (in a sense that single nodes have very few connections as compared to the network size). \n",
    "\n",
    "We will analyse large and sparse ER graphs, where the average degree $\\langle k \\rangle$ is some fixed (and small) number, and the size of the network $N$ is very large. Theoretically we will be thinking of networks that are infinitely large, but where $\\langle k \\rangle$ is still fixed (i.e., $N \\to \\infty$ and $p \\to 0$ such that $p(N-1)=\\langle k \\rangle$ stays constant). In terms of simulations we will use as large networks as is convenient from the computational point of view, with the idea that larger network sizes will give us better results.\n",
    "\n",
    "In this exercise, we will analyze the percolation properties of ER graphs. We will especially focus on the *percolation threshold* which is the value of $\\langle k \\rangle$ where the giant connected component appears (when $N$ is increasing, based on definition the giant component exists if the size of largest conneted component ,$S_{\\max}$, also grows in proportion to $N$ $S_{\\max}$ or in other words $S_{\\max}/N \\to s_{\\max}$ where $s_{\\max}>0$).\n",
    "\n",
    "To get you started, you may use this notebook or the accompanying Python template `percolation_in_er_networks.py` available in MyCourses. The usage of the notebook or template is fully **optional**. Then you only need to fill in the required functions. Some of the functions do NOT need modifications. You may start your solution after the subtitle \"**Begin of the Exercise**\" down below. \n",
    "\n",
    "In addition to returning a short report of your results (including the visualizations), return also your commented Python code or notebook. Remember to label the axes in your figures!"
   ]
  },
  {
   "cell_type": "code",
   "execution_count": null,
   "metadata": {
    "deletable": false,
    "editable": false,
    "nbgrader": {
     "cell_type": "code",
     "checksum": "53a48ee8acc935e7358b46bb883ef86e",
     "grade": false,
     "grade_id": "cell-12cdf38994089622",
     "locked": true,
     "schema_version": 3,
     "solution": false,
     "task": false
    }
   },
   "outputs": [],
   "source": [
    "import random\n",
    "import copy\n",
    "import networkx as nx\n",
    "import numpy as np\n",
    "import matplotlib.pyplot as plt\n",
    "import scipy.stats\n",
    "\n",
    "# Set the drawing parameters to fit the windows\n",
    "from matplotlib import rcParams\n",
    "rcParams.update({'figure.autolayout': True})"
   ]
  },
  {
   "cell_type": "code",
   "execution_count": null,
   "metadata": {
    "deletable": false,
    "editable": false,
    "nbgrader": {
     "cell_type": "code",
     "checksum": "83a6d9eae50d3c4020947f5370c96de7",
     "grade": false,
     "grade_id": "cell-ac1c5c24597a7199",
     "locked": true,
     "schema_version": 3,
     "solution": false,
     "task": false
    }
   },
   "outputs": [],
   "source": [
    "def calculate_loop_edge_fraction(network, visited_nodes, boundary_nodes):\n",
    "    \"\"\" Calculates the number of edges that go from the boundary to already visited nodes\n",
    "    in addition to the number of edges that is expected if the network would be a tree.\n",
    "    This number is then divided by the number of edges in total that go from the boundary\n",
    "    to the visited nodes.\n",
    "\n",
    "    In the case that the there are zero edges from the boundary to the visited nodes,\n",
    "    this function returns zero (i.e., in the beginning when the boundary set is the same\n",
    "    as the visited nodes).\n",
    "    \n",
    "    In the case that in breadth-first search all the reachable nodes have been already discovered, this function returns NaN.\n",
    "\n",
    "    Parameters\n",
    "    ----------\n",
    "    network : networkx.Graph object\n",
    "    visited_nodes : set object\n",
    "      The set of nodes that are visited (including the boundary)\n",
    "    boundary_nodes : set object\n",
    "      The set of nodes that are in the boundary, i.e., the were visited in the last iteration.\n",
    "\n",
    "    Returns\n",
    "    -------\n",
    "    The fraction described above : float or NaN\n",
    "\n",
    "    \"\"\"\n",
    "    if len(visited_nodes) == 1:\n",
    "        return 0\n",
    "    \n",
    "    if len(boundary_nodes) == 0:\n",
    "        #all the reachable nodes have been visited before\n",
    "        return(np.nan)\n",
    "    \n",
    "    edge_count = 0\n",
    "\n",
    "    for node in boundary_nodes:\n",
    "        for neighbor in network[node]:\n",
    "            if neighbor in visited_nodes or neighbor in boundary_nodes:\n",
    "                edge_count += 1\n",
    "\n",
    "    if edge_count != 0:\n",
    "        loop_count = edge_count -len(boundary_nodes)\n",
    "        assert loop_count >= 0\n",
    "        return loop_count/float(edge_count)\n",
    "    else:\n",
    "        return 0"
   ]
  },
  {
   "cell_type": "markdown",
   "metadata": {
    "deletable": false,
    "editable": false,
    "nbgrader": {
     "cell_type": "markdown",
     "checksum": "8a0adcf34da43cae32ebaa4c00822bd8",
     "grade": false,
     "grade_id": "cell-0ed1f358de272795",
     "locked": true,
     "schema_version": 3,
     "solution": false,
     "task": false
    }
   },
   "source": [
    "# Begin of the exercise\n",
    "Write your code here to analyse large and sparse ER graphs."
   ]
  },
  {
   "cell_type": "markdown",
   "metadata": {
    "deletable": false,
    "editable": false,
    "nbgrader": {
     "cell_type": "markdown",
     "checksum": "c7bc3818aa3d84677bd9a6dee8af4b41",
     "grade": false,
     "grade_id": "cell-62d5029655e0cf27",
     "locked": true,
     "schema_version": 3,
     "solution": false,
     "task": false
    }
   },
   "source": [
    "### a. Expected number of nodes at $d$ steps away (pen and paper)\n",
    "Given the assumption that large and sparse ER graphs are tree-like, use the idea of branching processes and the concept of excess degree (presented in the lectures) to calculate the expected number of nodes at $d$ steps away, $n_d$, from a randomly selected node in an ER network as a function of $\\langle k \\rangle$ and $d$. Using this result, justify that in large and sparse ER networks, the giant component appears when $\\langle k \\rangle > 1$.\n",
    "\n",
    "**Hints:**\n",
    "- Remember that the degree distribution of an ER network is a Poisson distribution when $N \\rightarrow \\infty$ such that $\\langle k \\rangle$ is constant. A property of Poisson distribution is that the mean and the variance are equal."
   ]
  },
  {
   "cell_type": "markdown",
   "metadata": {
    "deletable": false,
    "editable": false,
    "nbgrader": {
     "cell_type": "markdown",
     "checksum": "066ed8172fc22d2e3edd6a1de3b664a3",
     "grade": false,
     "grade_id": "cell-db391a7639b85e42",
     "locked": true,
     "schema_version": 3,
     "solution": false,
     "task": false
    }
   },
   "source": [
    "### b. Expected number of nodes at $d$ steps away (numerical simulation)\n",
    "Verify your analytical calculations for $n_d$ using numerical simulations. Calculate the $n_d$ value for $d \\in \\{0 \\dots 15\\} $, $\\langle k \\rangle \\in \\{ 0.5, 1, 2\\} $, and starting from enough randomly selected nodes to get a good estimate for the expected value. Try out two network sizes: $N=10^4$ and $N=10^5$ to see how the size affects the calculations. For this and the following tasks, you can use the Python template `percolation_in_er_networks.py`"
   ]
  },
  {
   "cell_type": "markdown",
   "metadata": {
    "deletable": false,
    "editable": false,
    "nbgrader": {
     "cell_type": "markdown",
     "checksum": "e341cfbe1295d6929f2cc0b77ebd84b3",
     "grade": false,
     "grade_id": "cell-86aaeeef3f2e22c1",
     "locked": true,
     "schema_version": 3,
     "solution": false,
     "task": false
    }
   },
   "source": [
    "### c. Tree-likeness assumption validity range\n",
    "Explore the range at which the assumption of tree-likeness of the network is valid. This can be done, for example, by calculating the number of edges that nodes at depth $d$ have that go back to some earlier level in addition to the single edge that connects each node to the level $d-1$, and reporting the average fraction of such edges to all edges that go from depth $d$ to earlier levels/depths. In a perfect tree this fraction is exactly 0. Comment on the results, and their effect on our results to exercise b). What are the other things that make your analytical calculation of $n_d$ to differ from your simulation results?"
   ]
  },
  {
   "cell_type": "code",
   "execution_count": null,
   "metadata": {
    "deletable": false,
    "nbgrader": {
     "cell_type": "code",
     "checksum": "e9460226f358e69b9fd49e850d1c4812",
     "grade": true,
     "grade_id": "cell-035bf604cace8969",
     "locked": false,
     "points": 0,
     "schema_version": 3,
     "solution": true,
     "task": false
    }
   },
   "outputs": [],
   "source": [
    "def create_er_network(net_size, avg_degree):\n",
    "    \"\"\"Creates a realisation of an Erdos-Renyi network.\n",
    "\n",
    "    Parameters\n",
    "    ----------\n",
    "    net_size : int\n",
    "       Number of nodes in the network.\n",
    "    avg_degree : float\n",
    "       The value of edge probability p is set such that this is the\n",
    "       expected average degree in the network.\n",
    "\n",
    "    Returns\n",
    "    -------\n",
    "\n",
    "    net: a network object\n",
    "\n",
    "    \"\"\"\n",
    "    #TODO: Implement this function.\n",
    "    p = avg_degree / (net_size - 1) # Replace!\n",
    "    net = nx.fast_gnp_random_graph(net_size,p) # Replace !\n",
    "    # Use the fast function fast_gnp_random_graph to create the ER graph!\n",
    "    # YOUR CODE HERE\n",
    "    raise NotImplementedError()\n",
    "    return net\n",
    "    \n"
   ]
  },
  {
   "cell_type": "code",
   "execution_count": null,
   "metadata": {
    "deletable": false,
    "nbgrader": {
     "cell_type": "code",
     "checksum": "a787c1e881a99a4d85ac555cb28ce3a3",
     "grade": true,
     "grade_id": "cell-542f392c1e05b3a2",
     "locked": false,
     "points": 0,
     "schema_version": 3,
     "solution": true,
     "task": false
    }
   },
   "outputs": [],
   "source": [
    "def expand_breadth_first_search(network, visited_nodes, boundary_nodes):\n",
    "    \"\"\"Performs one step in a breadth first search and updates the visited nodes\n",
    "    and boundary nodes sets that are given as parameters accordingly. Here one\n",
    "    step means that we will find all nodes that are one step further away from\n",
    "    the starting node. These nodes will form the new boundary.\n",
    "\n",
    "    Parameters\n",
    "    ----------\n",
    "    network : networkx.Graph object\n",
    "    visited_nodes : set object\n",
    "      The set of nodes that are visited (including the boundary)\n",
    "    boundary_nodes : set object\n",
    "      The set of nodes that are in the boundary, i.e., the were visited in the last iteration.\n",
    "\n",
    "    Returns\n",
    "    -------\n",
    "    Nothing, the visited nodes an boundary nodes are update in place.\n",
    "\n",
    "    \"\"\"\n",
    "\n",
    "    new_boundary = set() # Nodes in the new boundary are added here\n",
    "\n",
    "    # Go through all the nodes in the boundary, and add their neighbors\n",
    "    # that are not visited to the new boundary. Remember to update\n",
    "    # the visited_nodes as you go.\n",
    "    # YOUR CODE HERE\n",
    "    raise NotImplementedError()\n",
    "\n",
    "    # Here we replace the old boundary with the new boundary\n",
    "    boundary_nodes.clear()\n",
    "    boundary_nodes.update(new_boundary)\n",
    "\n",
    "    # We return nothing as the results were updated to visited_nodes and boundary_nodes\n"
   ]
  },
  {
   "cell_type": "code",
   "execution_count": null,
   "metadata": {
    "deletable": false,
    "nbgrader": {
     "cell_type": "code",
     "checksum": "86c484236ef82d0e18e6fbffa8bede01",
     "grade": true,
     "grade_id": "cell-9c64b0fa777314e3",
     "locked": false,
     "points": 0,
     "schema_version": 3,
     "solution": true,
     "task": false
    }
   },
   "outputs": [],
   "source": [
    "def ER_breadth_first_search(avg_degree, net_size, number_of_samples,\n",
    "                            max_depth=15, show_netsize=False):\n",
    "    \"\"\"Creates a figure of breadth first search in an ER network.\n",
    "\n",
    "    Parameters\n",
    "    ----------\n",
    "    avg_degree : float\n",
    "      The expected degree of the nodes in the ER network\n",
    "    net_size : int\n",
    "      The number of nodes in the ER network\n",
    "    number_of_samples : int\n",
    "       The number of randomly selected starting node for the BFS\n",
    "    max_depth : int\n",
    "       The maximum depth of the BFS\n",
    "    show_netsize : bool\n",
    "       If True, we will plot the size of the network in the first panel as a dotter horizontal line.\n",
    "\n",
    "    Returns\n",
    "    -------\n",
    "    fig : figure object\n",
    "    \"\"\"\n",
    "    net = create_er_network(net_size, avg_degree)\n",
    "\n",
    "    # We will count the number of nodes and the loop fraction for each depth and each\n",
    "    # starting node. That is, we need a 2-dimensional list to save these results.\n",
    "    # The element node_count[depth][sample_number] gives the number of nodes at the boundary\n",
    "    # of the BFS at the given depth for given sample number.\n",
    "    # The code below will create lists of length max_depth where each element is an empty list.\n",
    "    node_count = [[] for depth in range(max_depth+1)]\n",
    "    loop_edge_fraction = [[] for depth in range(max_depth+1)]\n",
    "\n",
    "    # Next we will run the BFS until max_depth for each randomly selected sample\n",
    "    for _sample_nr in range(number_of_samples):\n",
    "        # Choose random starting node:\n",
    "        start_node = random.randint(0, net_size-1)\n",
    "        # In the beginning we have only visited the start node:\n",
    "        visited_nodes = set([start_node])\n",
    "        # The start node is also the only boundary node, see expand_breadth_first_search:\n",
    "        boundary_nodes = set([start_node])\n",
    "\n",
    "        for depth in range(max_depth+1):\n",
    "            number_of_boundary_nodes = 0 #replace\n",
    "            # YOUR CODE HERE\n",
    "            raise NotImplementedError()\n",
    "\n",
    "            fraction_of_loop_edges = calculate_loop_edge_fraction(net,\n",
    "                                                                  visited_nodes, boundary_nodes)\n",
    "\n",
    "            # Update the visited nodes and the boundary\n",
    "            expand_breadth_first_search(net, visited_nodes, boundary_nodes)\n",
    "\n",
    "            # Saving the results\n",
    "            node_count[depth].append(number_of_boundary_nodes)\n",
    "            loop_edge_fraction[depth].append(fraction_of_loop_edges)\n",
    "\n",
    "    # Averaging over the different starting nodes.\n",
    "    #when calculating average of loop_edge_fraction we use np.nanmean function because we have defined fraction_of_loop_edges to return nan if all the reachable nodes are already visited\n",
    "    #avg_node_count = list(map(np.mean, node_count))\n",
    "    avg_node_count = list(map(np.mean, node_count))\n",
    "    avg_loop_edge_fraction = list(map(np.nanmean, loop_edge_fraction))\n",
    "    \n",
    "    \n",
    "\n",
    "    # Calculating the theoretical values, assuming the network is a tree\n",
    "    avg_node_count_theoretical = []\n",
    "    for depth in range(max_depth+1):\n",
    "        n = 0 # Replace with the formula from a)\n",
    "        # YOUR CODE HERE\n",
    "        raise NotImplementedError()\n",
    "        avg_node_count_theoretical.append(n)\n",
    "\n",
    "    #Plotting the results\n",
    "    fig = plt.figure(figsize=(4, 8))\n",
    "    ax1 = fig.add_subplot(211)\n",
    "\n",
    "    ax1.semilogy(list(range(max_depth+1)), avg_node_count, \"x\", label=\"Simulation\")\n",
    "    ax1.semilogy(list(range(max_depth+1)), avg_node_count_theoretical, label=\"Theoretical\")\n",
    "\n",
    "    if show_netsize:\n",
    "        ax1.semilogy([0, max_depth], 2*[net_size], \"k--\")\n",
    "\n",
    "    ax1.set_xlabel(\"\") # Set proper axis labels!\n",
    "    ax1.set_ylabel(\"\") # Set proper axis labels!\n",
    "    # YOUR CODE HERE\n",
    "    raise NotImplementedError()\n",
    "    ax1.set_xlim(0, max_depth)\n",
    "    ax1.legend()\n",
    "\n",
    "\n",
    "    ax2 = fig.add_subplot(212)\n",
    "    ax2.plot(list(range(max_depth+1)), avg_loop_edge_fraction, \"x\", label=\"Simulation\")\n",
    "    ax2.set_xlabel(\"\") # Set proper axis labels!\n",
    "    ax2.set_ylabel(\"\") # Set proper axis labels!\n",
    "    # YOUR CODE HERE\n",
    "    raise NotImplementedError()\n",
    "    ax2.set_xlim(0, max_depth)\n",
    "    ax2.set_ylim(0, 1)\n",
    "\n",
    "    # plt.show() # uncomment if you want to display the figure on the screen\n",
    "\n",
    "    return fig\n"
   ]
  },
  {
   "cell_type": "code",
   "execution_count": null,
   "metadata": {
    "deletable": false,
    "editable": false,
    "nbgrader": {
     "cell_type": "code",
     "checksum": "d617e14263b4bd50f7088e296586cfab",
     "grade": false,
     "grade_id": "cell-9710af7a6bcc3d4c",
     "locked": true,
     "schema_version": 3,
     "solution": false,
     "task": false
    }
   },
   "outputs": [],
   "source": [
    "fig = ER_breadth_first_search(0.5, 10**4, 10000)\n",
    "fig.savefig('./er_breadthfirst_05_10k.pdf')\n",
    "\n",
    "fig = ER_breadth_first_search(1, 10**4, 10000)\n",
    "fig.savefig('./er_breadthfirst_1_10k.pdf')\n",
    "\n",
    "fig = ER_breadth_first_search(2, 10**4, 100, show_netsize=True, max_depth=15)\n",
    "fig.savefig('./er_breadthfirst_2_10k.pdf')\n",
    "\n",
    "fig = ER_breadth_first_search(0.5, 10**5, 10000)\n",
    "fig.savefig('./er_breadthfirst_05_100k.pdf')\n",
    "\n",
    "fig = ER_breadth_first_search(1, 10**5, 10000)\n",
    "fig.savefig('./er_breadthfirst_1_100k.pdf')\n",
    "\n",
    "fig = ER_breadth_first_search(2, 10**5, 100, show_netsize=True, max_depth=15)\n",
    "fig.savefig('./er_breadthfirst_2_100k.pdf')"
   ]
  },
  {
   "cell_type": "markdown",
   "metadata": {
    "deletable": false,
    "editable": false,
    "nbgrader": {
     "cell_type": "markdown",
     "checksum": "dc870583954afa0fd8c901031c6e9c7a",
     "grade": false,
     "grade_id": "cell-a7e1c3ef1a1a2c91",
     "locked": true,
     "schema_version": 3,
     "solution": false,
     "task": false
    }
   },
   "source": [
    "### d. Percolation theshold of ER networks\n",
    "Calculate the component sizes of simulated ER networks, and use this data to (loosely) verify that the percolation threshold of ER networks is at the average degree of $\\langle k \\rangle=1$.\n",
    "That is, for $\\langle k \\rangle < 1$ the largest connected component is small (size being measured as number of participating nodes), and for $\\langle k \\rangle > 1$ it quickly reaches the network size.\n",
    "\n",
    "Do this by generating ER networks of size $N=10^4$ with different average degrees: $\\langle k \\rangle=\\left[0.00, 0.05, ..., 2.45, 2.50\\right]$.\n",
    "For each of the ER networks, compute the size of the largest component and plot it against $\\langle k \\rangle$."
   ]
  },
  {
   "cell_type": "markdown",
   "metadata": {
    "deletable": false,
    "editable": false,
    "nbgrader": {
     "cell_type": "markdown",
     "checksum": "75a9452a48d8d1ecc1db0b9b045e8acc",
     "grade": false,
     "grade_id": "cell-ae4f8cc64133865f",
     "locked": true,
     "schema_version": 3,
     "solution": false,
     "task": false
    }
   },
   "source": [
    "### e. Susceptibility\n",
    "Another, a more elegant, way to find out when the percolation transition happens is to try to find the point at which the possibility for the largest component size growth is the largest when the control parameter (here $\\langle k \\rangle$ or $p$) is changed very little. Think about the situation where $\\langle k \\rangle$ is changed so slightly that a single link is added between the largest component and a randomly selected node that is not in the largest component. The expected change in the largest component size in this situation is some times called susceptibility, and it should get very large values at the percolation transition point. The susceptibility depends on the size distribution of all the other components, and it can be calculated with the following formula:\n",
    "\\begin{equation}\n",
    "\\chi = \\frac{\\sum_s s^2 C(s) - s_{max}^2}{\\sum_s s C(s) - s_{max}} \\,,\n",
    "\\end{equation}\n",
    "where $C(s)$ is the number of components with $s$ nodes. Calculate the susceptibility $\\chi$ for each network generated in exercise d), and again plot $\\chi$ as a function of $\\langle k \\rangle$. Explain the shape of the curve, and its implications. "
   ]
  },
  {
   "cell_type": "code",
   "execution_count": null,
   "metadata": {
    "deletable": false,
    "nbgrader": {
     "cell_type": "code",
     "checksum": "8c767db956e43837c182a6d3986e54a9",
     "grade": true,
     "grade_id": "cell-506f45f708aacb5b",
     "locked": false,
     "points": 0,
     "schema_version": 3,
     "solution": true,
     "task": false
    }
   },
   "outputs": [],
   "source": [
    "def get_susceptibility(component_size_distribution):\n",
    "    \"\"\"Calculates the susceptibility (as defined in ex. 4.1e)\n",
    "\n",
    "    Parameters\n",
    "    ----------\n",
    "    component_size_distribution : dict\n",
    "       The component size distribution. See the function get_component_size_dist\n",
    "\n",
    "    Returns\n",
    "    -------\n",
    "    Susceptibility value : float\n",
    "    \"\"\"\n",
    "    numerator = 0 # Numerator value of the formula to be updated\n",
    "    denominator = 0 # Denominator value of the formula to be updated\n",
    "    #TODO: Implement this function\n",
    "    # YOUR CODE HERE\n",
    "    raise NotImplementedError()\n",
    "    return numerator/denominator"
   ]
  },
  {
   "cell_type": "code",
   "execution_count": null,
   "metadata": {
    "deletable": false,
    "nbgrader": {
     "cell_type": "code",
     "checksum": "b38f35a6fc86a1c93b4c57408c205873",
     "grade": true,
     "grade_id": "cell-817435d312b8c64b",
     "locked": false,
     "points": 0,
     "schema_version": 3,
     "solution": true,
     "task": false
    }
   },
   "outputs": [],
   "source": [
    "def get_largest_component_size(component_size_distribution):\n",
    "    \"\"\"Finds the largest component in the given component size distribution.\n",
    "\n",
    "    Parameters\n",
    "    ----------\n",
    "    component_size_distribution : dict\n",
    "       The component size distribution. See the function get_component_size_dist\n",
    "\n",
    "    Returns\n",
    "    -------\n",
    "    The largest component size : int\n",
    "    \"\"\"\n",
    "    #TODO: Implement this function.\n",
    "    # YOUR CODE HERE\n",
    "    raise NotImplementedError()"
   ]
  },
  {
   "cell_type": "code",
   "execution_count": null,
   "metadata": {
    "deletable": false,
    "nbgrader": {
     "cell_type": "code",
     "checksum": "5a3cdc9def427393c308c3e92ef6e7bb",
     "grade": true,
     "grade_id": "cell-9f04c28865bea2a2",
     "locked": false,
     "points": 0,
     "schema_version": 3,
     "solution": true,
     "task": false
    }
   },
   "outputs": [],
   "source": [
    "def get_component_size_dist(net):\n",
    "    \"\"\"Calculates the (unnormalised) component size distribution of a network.\n",
    "\n",
    "    For example, if the input network has 1 component of size 5 nodes and\n",
    "    3 components of size 10 nodes, then this function will return a dictionary:\n",
    "    {5:1, 10:3}.\n",
    "\n",
    "    Parameters\n",
    "    ----------\n",
    "    net : networkx.Graph object\n",
    "\n",
    "    Returns\n",
    "    -------\n",
    "    Dictionary where keys are component sizes and values are the number of\n",
    "    components of that size.\n",
    "    \"\"\"\n",
    "    dist = {}\n",
    "    # Hint: use the function nx.connected_components\n",
    "    #TODO: Implement this function.\n",
    "    # YOUR CODE HERE\n",
    "    raise NotImplementedError()\n",
    "    return dist"
   ]
  },
  {
   "cell_type": "code",
   "execution_count": null,
   "metadata": {
    "deletable": false,
    "nbgrader": {
     "cell_type": "code",
     "checksum": "80b8550ae2a30c8e1ec02892062b0bf1",
     "grade": true,
     "grade_id": "cell-db122a31086a2e96",
     "locked": false,
     "points": 0,
     "schema_version": 3,
     "solution": true,
     "task": false
    }
   },
   "outputs": [],
   "source": [
    "def ER_percolation(N, maxk, stepsize=0.1):\n",
    "    \"\"\"Builds ER networks with average degrees from 0 to maxk and\n",
    "       plots the size of the largest connected component and susceptibility\n",
    "       as a function of the average degree.\n",
    "\n",
    "    Parameters\n",
    "    ----------\n",
    "    N : int\n",
    "      Number of nodes in the ER network\n",
    "    maxk : float\n",
    "      The maximum average degree\n",
    "    stepsize : float\n",
    "      The size of the step after which the LCC and susceptibility is calculated.\n",
    "      I.e., they are plotted at 0, stepsize, 2*stepsize, ..., maxk\n",
    "\n",
    "    Returns\n",
    "    -------\n",
    "    fig : figure handle\n",
    "    \"\"\"\n",
    "\n",
    "    klist = np.arange(0.0, maxk, stepsize)\n",
    "    giantsize = []\n",
    "    smallsize = []\n",
    "\n",
    "    # Loop over the avg degree range\n",
    "    for k in klist:\n",
    "        print(\"Doing the calculations for avg degree:\")\n",
    "        print(k)\n",
    "\n",
    "        # Generate an ER network with N nodes and avg degree k\n",
    "        net = create_er_network(N, k)\n",
    "\n",
    "        # Get the distribution of component sizes\n",
    "        component_size_dist = get_component_size_dist(net)\n",
    "\n",
    "        # Galculate the largest component size\n",
    "        giantsize.append(get_largest_component_size(component_size_dist))\n",
    "\n",
    "        # Calculate the avg component size for the other components\n",
    "        smallsize.append(get_susceptibility(component_size_dist))\n",
    "\n",
    "    # plot the numbers\n",
    "    fig = plt.figure()\n",
    "    ax = fig.add_subplot(2, 1, 1)\n",
    "\n",
    "    ax.plot(klist, giantsize, 'r-')\n",
    "    ax.set_xlabel('') # TODO: label the axis!\n",
    "    ax.set_ylabel('') # TODO: label the axis!\n",
    "    # YOUR CODE HERE\n",
    "    raise NotImplementedError()\n",
    "\n",
    "    ax2 = fig.add_subplot(2, 1, 2)\n",
    "    ax2.plot(klist, smallsize, 'k-')\n",
    "    ax2.set_ylabel('')  # TODO: label the axis!\n",
    "    ax2.set_xlabel('')  # TODO: label the axis!\n",
    "    # YOUR CODE HERE\n",
    "    raise NotImplementedError()\n",
    "\n",
    "    fig.suptitle('Number of nodes = ' + str(N))\n",
    "    # plt.show() # uncomment if you want to display the figure on the screen\n",
    "\n",
    "    return fig\n"
   ]
  },
  {
   "cell_type": "code",
   "execution_count": null,
   "metadata": {},
   "outputs": [],
   "source": [
    "fig = ER_percolation(10**5, 2.5, 0.05)\n",
    "fig.savefig('./er_percolation.pdf')"
   ]
  }
 ],
 "metadata": {
  "kernelspec": {
   "display_name": "Python 3",
   "language": "python",
   "name": "python3"
  },
  "language_info": {
   "codemirror_mode": {
    "name": "ipython",
    "version": 3
   },
   "file_extension": ".py",
   "mimetype": "text/x-python",
   "name": "python",
   "nbconvert_exporter": "python",
   "pygments_lexer": "ipython3",
   "version": "3.7.3"
  },
  "varInspector": {
   "cols": {
    "lenName": 16,
    "lenType": 16,
    "lenVar": 40
   },
   "kernels_config": {
    "python": {
     "delete_cmd_postfix": "",
     "delete_cmd_prefix": "del ",
     "library": "var_list.py",
     "varRefreshCmd": "print(var_dic_list())"
    },
    "r": {
     "delete_cmd_postfix": ") ",
     "delete_cmd_prefix": "rm(",
     "library": "var_list.r",
     "varRefreshCmd": "cat(var_dic_list()) "
    }
   },
   "types_to_exclude": [
    "module",
    "function",
    "builtin_function_or_method",
    "instance",
    "_Feature"
   ],
   "window_display": false
  }
 },
 "nbformat": 4,
 "nbformat_minor": 2
}
