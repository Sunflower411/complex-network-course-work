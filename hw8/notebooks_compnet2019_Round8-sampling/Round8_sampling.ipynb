{
 "cells": [
  {
   "cell_type": "markdown",
   "metadata": {
    "deletable": false,
    "editable": false,
    "nbgrader": {
     "cell_type": "markdown",
     "checksum": "f6c9fca5d8ca932dd83db63b9d9cb48b",
     "grade": false,
     "grade_id": "cell-158415a914e365c7",
     "locked": true,
     "schema_version": 3,
     "solution": false,
     "task": false
    }
   },
   "source": [
    "# Round 8. Sampling\n",
    "\n",
    "To get started, you can use the provided Python template `sampling.py` or this notebook for reference. The usage of the notebook or template is **optional**. Then you only need to fill in the required functions. Some of the functions do NOT need modifications. You may start your solution after the subtitle \"**Beginning of the Exercise**\" down below. \n",
    "\n",
    "In addition to returning a short report of your results (including the visualizations), return also your commented Python code or notebook. Remember to label the axes in your figures!\n",
    "\n",
    "Many network data sets are samples of some underlying graphs that we are actually interested in. That is, nodes and edges of these empirical networks have been sampled in a way that we only observe parts of them. This can severely bias even the most simple network measures we compute in a way that the values the measures get for the sampled graph can be very different than for the underlying graph.\n",
    "In this exercise we will see the effect of three different sampling schemes on network transitivity $C$ and derive estimators that can be used to correct for these biases.  \n",
    "\n",
    "Let us first recall the definition of transitivity $C$, defined during the lectures as:\n",
    "\\begin{equation} \n",
    "C =\\frac{\\tau_{\\triangle}}{\\tau_{\\angle}} = \\frac{\\sum_i E_i}{\\sum_i {k_i \\choose 2}}\\,, %=\\frac{\\text{3} \\times \\text{number of triangles in the network}}{\\text{number of two-stars in the network}}\\,,\n",
    "\\end{equation}\n",
    "\n",
    "where $\\tau_{\\angle}$ is the number of two-stars (a node and two of its neighbors), $\\tau_{\\triangle}$ is three times the number of triangles (two-stars in which the neighbors are connected), $i$ is a node, $k_i$ is the degree of $i$, and $E_i$ is the number of triangles centered on $i$ (in other words, how many triangles pass by $i$).\n",
    "\n",
    "In this exercise we will use the Horvitz-Thompson (HT) estimator to get a better estimate of $\\tau_{\\triangle}$ and $\\tau_{\\angle}$ under different sampling schemes. We will then use these estimators to get an estimator for $C$ by simply plugging them in the formula for $C$. In short, HT is a weighted estimator, where the weights are determined by the inverse of the probability of observations. This way, observations that are more unlikely to be sampled have a larger weight, and observations that are more likely to be sampled have a smaller weight.\n",
    "\n",
    "The HT estimator is used to estimate totals of the form:\n",
    "\\begin{equation*}\n",
    "    \\tau = \\sum_{i \\in U} y_{i}\\,,\n",
    "\\end{equation*}\n",
    "where $U$ is the underlying population of units (in networks it could be edges, triangles, nodes of certain degree ...), and the $y_i$ is the number associated to unit $i$. Often we simply want to calculate the number of units, and in these cases we set $y_i=1$ for every $i$. The HT estimator can be written as\n",
    "\\begin{equation*}\n",
    "    \\hat{\\tau} = \\sum_{i \\in S} \\frac{y_{i}}{\\pi_{i}} \\,,\n",
    "\\end{equation*}\n",
    "where $S \\subseteq U$ is the random sample and $\\pi_i$ is the probability of observing the unit $i$.\n"
   ]
  },
  {
   "cell_type": "markdown",
   "metadata": {
    "deletable": false,
    "editable": false,
    "nbgrader": {
     "cell_type": "markdown",
     "checksum": "4c1676db7d240af2e8cfbc6f602b1fce",
     "grade": false,
     "grade_id": "cell-af155fe15a366769",
     "locked": true,
     "schema_version": 3,
     "solution": false,
     "task": false
    }
   },
   "source": [
    "# Beginning of the exercise\n",
    "Write your code for the sampling exercise when needed"
   ]
  },
  {
   "cell_type": "markdown",
   "metadata": {
    "deletable": false,
    "editable": false,
    "nbgrader": {
     "cell_type": "markdown",
     "checksum": "831234ce4fa2623b578b39a852c92414",
     "grade": false,
     "grade_id": "cell-9de2029b729719c4",
     "locked": true,
     "schema_version": 3,
     "solution": false,
     "task": false
    }
   },
   "source": [
    "### a. Bernoulli sampling of nodes\n",
    "First let's focus on the case of Bernoulli sampling of nodes, where each node is sampled with probability $p$, and we observe an edge if and only if we have sampled the two nodes that form it. **Calculate** the probability of observing (i) a two-star and (ii) a triangle, commenting on how you obtained these probabilities. Notice that the probability of observing a stucture refers only to the probability of sampling it given that it exists, not to the probability of that structure first occuring in a network and then sampling it. Then, **write** the HT estimator for the total number of two-stars $\\hat{\\tau}_{\\angle}^n$ and the HT estimator for the total number of triangles $\\hat{\\tau}_{\\triangle}^n$, where the $n$ refers to the fact that we have perfomed sampling of nodes."
   ]
  },
  {
   "cell_type": "markdown",
   "metadata": {
    "deletable": false,
    "editable": false,
    "nbgrader": {
     "cell_type": "markdown",
     "checksum": "f2c904266f3872d5638dc8945b6b7c4a",
     "grade": false,
     "grade_id": "cell-aedbe25a88d04594",
     "locked": true,
     "schema_version": 3,
     "solution": false,
     "task": false
    }
   },
   "source": [
    "### b. Bernoulli sampling of edges\n",
    "Now we perform Bernoulli sampling of edges, where each edge is sampled with probability $p$, and a node is observed if one of its edges is sampled. For this case also **calculate** the probability of oberving (i) a two-star and (ii) a triangle, commenting on how to derive them, and **write** the HT estimator for the total number of triples connected by two edges $\\hat{\\tau}_{\\angle}^e$, and the total number of triangles $\\hat{\\tau}_{\\triangle}^e$, where $e$ refers to the sampling of edges."
   ]
  },
  {
   "cell_type": "markdown",
   "metadata": {
    "deletable": false,
    "editable": false,
    "nbgrader": {
     "cell_type": "markdown",
     "checksum": "a5429f6f300ec8c62c7d889a79405ada",
     "grade": false,
     "grade_id": "cell-5bbbcceecd548e37",
     "locked": true,
     "schema_version": 3,
     "solution": false,
     "task": false
    }
   },
   "source": [
    "### c. Star sampling\n",
    "Our last sampling scheme is star sampling. In this case, we sample each node with probability $p$, and then observe all of its edges (an example would be a data set obtained by crawling through friendship lists of randomly selected users in a social networking website). As before, **calculate** the probability of observing (i) a two-star and (ii) a triangle, commenting on how to derive them and including the corresponding HT estimators $\\hat{\\tau}_{\\angle}^s$ and $\\hat{\\tau}_{\\triangle}^s$ for star sampling. To make calculations easier, for your two-star estimators use only the sampled nodes, i.e., use the observed degrees of sampled nodes only, and do not use the degrees of nodes that were not sampled but whose neighbors were sampled. Otherwise, the sampling probability will depend on a node's degree, which is something we want to avoid for now. \n",
    "\n",
    "**Hints:**\n",
    "For obtaining the probability of observing a triangle, consider that this happens when either only two nodes or exactly the three nodes are observed. "
   ]
  },
  {
   "cell_type": "markdown",
   "metadata": {
    "deletable": false,
    "editable": false,
    "nbgrader": {
     "cell_type": "markdown",
     "checksum": "e6e3a07aee309b9cf3c937cfa294a0a5",
     "grade": false,
     "grade_id": "cell-fadb255fa057217c",
     "locked": true,
     "schema_version": 3,
     "solution": false,
     "task": false
    }
   },
   "source": [
    "### d. HT estimators\n",
    "Finally, let's construct our HT estimators for network transitivity $C$ under our sampling schemes. In all cases we use a plug-in estimator, where you can simply substitute (or \"plug-in\") the HT estimators found in a), b) and c) into the first equation. **Report** your HT estimators for transitivity under the sampling schemes $\\tau_C^n$, $\\tau_C^e$ and $\\tau_C^s$, and **comment** on their differences, or the effect of the different sampling schemes on the estimators.\n",
    "\n",
    "Next, let's put our estimators to work. Start by generating a network from a random model. Use the command `\\code{nx.relaxed_caveman_graph(200, 10, 0.1)}` to generate a graph with 200 communities of ten people each, where each link is then rewired with probability $0.1$. We will assume that this is the \"true\" graph from which we obtain samples."
   ]
  },
  {
   "cell_type": "code",
   "execution_count": 9,
   "metadata": {
    "deletable": false,
    "editable": false,
    "nbgrader": {
     "cell_type": "code",
     "checksum": "1e0c7af5f5b9b2057e36e98f4d74d9c0",
     "grade": false,
     "grade_id": "cell-64c9624236cebf99",
     "locked": true,
     "schema_version": 3,
     "solution": false,
     "task": false
    }
   },
   "outputs": [],
   "source": [
    "import networkx as nx\n",
    "import numpy as np\n",
    "import matplotlib.pyplot as plt\n",
    "\n",
    "# Generate network\n",
    "g = nx.relaxed_caveman_graph(200, 10, .1)"
   ]
  },
  {
   "cell_type": "markdown",
   "metadata": {
    "deletable": false,
    "editable": false,
    "nbgrader": {
     "cell_type": "markdown",
     "checksum": "4d07135d3cca6445b02b2bb610d3f126",
     "grade": false,
     "grade_id": "cell-7013f5fc038e99d8",
     "locked": true,
     "schema_version": 3,
     "solution": false,
     "task": false
    }
   },
   "source": [
    "### e. Sampling \n",
    "Write functions for sampling under the schemes described on a), b) and c). **Obtain samples** of the network using all schemes with probabilities $p = 0.1, 0.3, 0.5, 1$ (of course, for $p=1$ there is no need to sample, you can simply use the full network). Then, use your own code to obtain empirical estimates of the number of triangles, the number of two-stars, and transitivity. **Report** your results on three tables, one for each sampling scheme, where the rows represent the different sampling probabilities, and the columns represent the empirical number of triangles, two-stars, and transitivity. **Comment** on the effect of sampling schemes on the network statistics and why you think that is. Are we more likely to observe certain structures under the different schemes? Are all schemes similar in other cases? Why? \n",
    "\n",
    "**Hints:**\n",
    "- In this case, the empirical estimator $\\hat{\\tau}$ may be understood as simply counting the triangles/two-stars in our the sampled networks, without the HT estimators.\n",
    "- Since we are dealing with samples of networks, you may get very different numbers every time you run the sampling. It is normal that the specific numbers change (sometimes a lot), but in general you should be able to see differences for the sampling schemes and probabilities.\n",
    "- For the case of star-sampling, we estimate the number of two-stars using only the sampled nodes and not the complete graph. When writing your function for star sampling, remember to return an object with sampled nodes, as you don't want to include all nodes in your estimates. "
   ]
  },
  {
   "cell_type": "code",
   "execution_count": 52,
   "metadata": {
    "deletable": false,
    "nbgrader": {
     "cell_type": "code",
     "checksum": "e8ee7c941872109f8be67027245686b0",
     "grade": true,
     "grade_id": "cell-de450874ad32ecb3",
     "locked": false,
     "points": 0,
     "schema_version": 3,
     "solution": true,
     "task": false
    }
   },
   "outputs": [],
   "source": [
    "import random\n",
    "def sample_nodes(g, p):\n",
    "    \"\"\"\n",
    "    Obtains a sampled network via Bernoulli node sampling.\n",
    "    For each node in g, sample it with probability p, and add edge (i, j) only if both nodes i and j have been sampled.\n",
    "\n",
    "    Parameters\n",
    "    ----------------\n",
    "    g: a networkx graph object\n",
    "    p: sampling probability for each node\n",
    "    \"\"\"\n",
    "\n",
    "    # Initialize empty network\n",
    "    g_new = nx.empty_graph()\n",
    "    #print(np.random.rand)\n",
    "    for node in g.nodes():\n",
    "        if(random.random() < p):\n",
    "            g_new.add_node(node)\n",
    "    for u in g_new.nodes():\n",
    "        for v in g_new.nodes():\n",
    "            if (u in g.neighbors(v)):\n",
    "                g_new.add_edge(u,v)\n",
    "\n",
    "    #TODO: Write code for sampling. Iterate over nodes, and add to g_new with probability p\n",
    "    #TODO add edges if both nodes in an edge have been observed.\n",
    "\n",
    "    # YOUR CODE HERE\n",
    "    #raise NotImplementedError()\n",
    "    return g_new"
   ]
  },
  {
   "cell_type": "code",
   "execution_count": 53,
   "metadata": {
    "deletable": false,
    "nbgrader": {
     "cell_type": "code",
     "checksum": "133603bc3cf94d6ac57ba5dfe86e1245",
     "grade": true,
     "grade_id": "cell-6db17dc85376c563",
     "locked": false,
     "points": 0,
     "schema_version": 3,
     "solution": true,
     "task": false
    }
   },
   "outputs": [],
   "source": [
    "def count_triangles(g):\n",
    "    \"\"\"\n",
    "    Counts the number of triangles in a graph\n",
    "\n",
    "    Parameters\n",
    "    ------------------\n",
    "    g: a networkx graph object\n",
    "    \"\"\"\n",
    "    triangles = []\n",
    "    n_triangles = 0\n",
    "    for node in g.nodes():\n",
    "        #print()\n",
    "        n_triangles += nx.triangles(g,node)\n",
    "        \n",
    "    #TODO: count the number of triangles in a graph.\n",
    "    # YOUR CODE HERE\n",
    "    #raise NotImplementedError()\n",
    "    return n_triangles"
   ]
  },
  {
   "cell_type": "code",
   "execution_count": 54,
   "metadata": {
    "deletable": false,
    "nbgrader": {
     "cell_type": "code",
     "checksum": "f478ffcb1e3df74785ed151035c7d345",
     "grade": true,
     "grade_id": "cell-72e99963d1338d47",
     "locked": false,
     "points": 0,
     "schema_version": 3,
     "solution": true,
     "task": false
    }
   },
   "outputs": [],
   "source": [
    "def count_twostars(g, nodes=None):\n",
    "    \"\"\"\n",
    "    Counts the number of two stars in a graph\n",
    "\n",
    "    Parameters\n",
    "    ------------------\n",
    "    g: a networkx graph object\n",
    "    nodes: if nodes is not None, a list of sampled nodes under the star-sampling scheme.\n",
    "\n",
    "    \"\"\"\n",
    "    n_two_stars = 0\n",
    "    # TODO: Replace this. The line \"if not nodes\" is True when nodes=None, this is for node and edge sampling\n",
    "    if not nodes:\n",
    "        two_stars = []\n",
    "        for node in g.nodes():\n",
    "            k = g.degree(node)\n",
    "            n_two_stars += k*(k-1)/2\n",
    "    else:\n",
    "    # TODO: Replace this. If nodes is a list of sampled nodes, count the two-stars centered on these sampled nodes.\n",
    "        two_stars = []\n",
    "        for node in nodes:\n",
    "            k = g.degree(node)\n",
    "            n_two_stars += k*(k-1)/2\n",
    "        \n",
    "\n",
    "    # YOUR CODE HERE\n",
    "    #raise NotImplementedError()\n",
    "    return n_two_stars"
   ]
  },
  {
   "cell_type": "code",
   "execution_count": 55,
   "metadata": {
    "deletable": false,
    "nbgrader": {
     "cell_type": "code",
     "checksum": "02f1ddda9c499a39c4043dd5ffb08b3c",
     "grade": true,
     "grade_id": "cell-d8a5b9c615c3c2a2",
     "locked": false,
     "points": 0,
     "schema_version": 3,
     "solution": true,
     "task": false
    }
   },
   "outputs": [],
   "source": [
    "def transitivity(n_triangles, n_twostars):\n",
    "    \"\"\"\n",
    "    Returns the plug-in estimator for global transitivity given the number of triangles and number of triples connected by two edges\n",
    "\n",
    "    Parameters\n",
    "    ---------------------\n",
    "    triples: int\n",
    "    triangles: int\n",
    "    \"\"\"\n",
    "    if(n_twostars == 0):\n",
    "        transitivity = 0\n",
    "    else:\n",
    "        transitivity = n_triangles / n_twostars\n",
    "    #TODO: Write the plug-in estimator for transitivity given the estimators for 2-stars and triangles\n",
    "    # YOUR CODE HERE\n",
    "    #raise NotImplementedError()\n",
    "    return transitivity"
   ]
  },
  {
   "cell_type": "code",
   "execution_count": 56,
   "metadata": {
    "deletable": false,
    "nbgrader": {
     "cell_type": "code",
     "checksum": "f3dd76e25eb2a3c53fc66f0458fe6e72",
     "grade": true,
     "grade_id": "cell-ba9f0997c5b920e1",
     "locked": false,
     "points": 0,
     "schema_version": 3,
     "solution": true,
     "task": false
    }
   },
   "outputs": [],
   "source": [
    "def sample_edges(g, p):\n",
    "    \"\"\"\n",
    "    Obtains a sampled network via Bernoulli edge sampling.\n",
    "    For each edge in g, sample it with probability p\n",
    "\n",
    "    Parameters\n",
    "    ----------------\n",
    "    g: a networkx graph object\n",
    "    p: sampling probability for each edge\n",
    "    \"\"\"\n",
    "\n",
    "    # Initialize empty network\n",
    "    g_new = nx.empty_graph()\n",
    "    for (u,v) in g.edges():\n",
    "        if(random.random() < p):\n",
    "            g_new.add_edge(u,v)\n",
    "    \n",
    "    \n",
    "\n",
    "    # TODO: Write code for sampling. Iterate over edges, and add to g_new with probability p\n",
    "    # YOUR CODE HERE\n",
    "    #raise NotImplementedError()\n",
    "    return g_new"
   ]
  },
  {
   "cell_type": "code",
   "execution_count": 57,
   "metadata": {
    "deletable": false,
    "nbgrader": {
     "cell_type": "code",
     "checksum": "9db5aa876b7c8d08dcb7ca9fad622ff7",
     "grade": true,
     "grade_id": "cell-b90aae4899a1a152",
     "locked": false,
     "points": 0,
     "schema_version": 3,
     "solution": true,
     "task": false
    }
   },
   "outputs": [],
   "source": [
    "def sample_stars(g, p):\n",
    "    \"\"\"\n",
    "    Obtains a sampled network via star sampling.\n",
    "    We sample nodes with probability p, and observe all neighbors. Returns a g_new network obtained via star sampling, and also a list of the nodes that were directly sampled from g, not only sampled via observing a sampled neighbor.\n",
    "    Parameters\n",
    "    ----------------\n",
    "    g: a networkx graph object\n",
    "    p: sampling probability for each edge\n",
    "    \"\"\"\n",
    "\n",
    "    # Initialize empty network\n",
    "    g_new = nx.empty_graph()\n",
    "    nodes = []\n",
    "    for node in g.nodes():\n",
    "        if(random.random() < p):\n",
    "            g_new.add_node(node)\n",
    "            nodes.append(node)\n",
    "            \n",
    "    for v in list(g_new.nodes()):\n",
    "        for u in g.nodes():\n",
    "            if (u in g.neighbors(v)):\n",
    "                g_new.add_edge(u,v)\n",
    "    # TODO: Write code for sampling. Iterate over edges, and add to g_new with probability p\n",
    "    # YOUR CODE HERE\n",
    "    #raise NotImplementedError()\n",
    "    return g_new, nodes"
   ]
  },
  {
   "cell_type": "code",
   "execution_count": 58,
   "metadata": {
    "deletable": false,
    "editable": false,
    "nbgrader": {
     "cell_type": "code",
     "checksum": "9a1fe1d712148ac8a17fe2db041974ae",
     "grade": false,
     "grade_id": "cell-49c6e2a50922414a",
     "locked": true,
     "schema_version": 3,
     "solution": false,
     "task": false
    }
   },
   "outputs": [
    {
     "name": "stdout",
     "output_type": "stream",
     "text": [
      " --------- Sampling nodes ---------\n",
      "p  |  triangles | two-stars | transitivity | \n",
      "0.10  |       75  |       98  |  0.7653  |\n",
      "0.30  |     1767  |     2403  |  0.7353  |\n",
      "0.50  |     6759  |     9588  |  0.7049  |\n",
      "1.00  |    52164  |    72926  |  0.7153  |\n",
      "....................................\n",
      " --------- Sampling edges ----------\n",
      "p  |  triangles | two-stars | transitivity | \n",
      "0.10  |       42  |      729  |  0.0576  |\n",
      "0.30  |     1338  |     6436  |  0.2079  |\n",
      "0.50  |     6612  |    18043  |  0.3665  |\n",
      "1.00  |    52164  |    72926  |  0.7153  |\n",
      "....................................\n",
      " --------- Star sampling ----------\n",
      "p  |  triangles | two-stars | transitivity | \n",
      "0.10  |     1416  |     7592  |  0.1865  |\n",
      "0.30  |    11865  |    22491  |  0.5275  |\n",
      "0.50  |    26127  |    36979  |  0.7065  |\n",
      "1.00  |    52164  |    72926  |  0.7153  |\n"
     ]
    }
   ],
   "source": [
    "probabilites = [.1, .3, .5, 1]\n",
    "print(' --------- Sampling nodes ---------')\n",
    "print('p  |  triangles | two-stars | transitivity | ')\n",
    "for p in probabilites:\n",
    "    if p == 1:\n",
    "        g_new = g\n",
    "    else:\n",
    "        g_new = sample_nodes(g, p)\n",
    "\n",
    "    n_triangles = count_triangles(g_new)\n",
    "    n_twostars = count_twostars(g_new)\n",
    "    transit = transitivity(n_triangles, n_twostars)\n",
    "    print('%2.2f  |  %7d  |  %7d  |  %4.4f  |' % (p, n_triangles, n_twostars, transit))\n",
    "print('....................................')\n",
    "print(' --------- Sampling edges ----------')\n",
    "print('p  |  triangles | two-stars | transitivity | ')\n",
    "for p in probabilites:\n",
    "    if p == 1:\n",
    "        g_new = g\n",
    "    else:\n",
    "        g_new = sample_edges(g, p)\n",
    "    n_triangles = count_triangles(g_new)\n",
    "    n_twostars = count_twostars(g_new)\n",
    "    transit = transitivity(n_triangles, n_twostars)\n",
    "    print('%2.2f  |  %7d  |  %7d  |  %4.4f  |' % (p, n_triangles, n_twostars, transit))\n",
    "\n",
    "print('....................................')\n",
    "print(' --------- Star sampling ----------')\n",
    "print('p  |  triangles | two-stars | transitivity | ')\n",
    "for p in probabilites:\n",
    "    if p == 1:\n",
    "        g_new = g\n",
    "        nodes = None\n",
    "    else:\n",
    "        g_new, nodes = sample_stars(g, p)\n",
    "    n_triangles = count_triangles(g_new)\n",
    "    n_twostars = count_twostars(g_new, nodes)\n",
    "    transit = transitivity(n_triangles, n_twostars)\n",
    "    print('%2.2f  |  %7d  |  %7d  |  %4.4f  |' % (p, n_triangles, n_twostars, transit))"
   ]
  },
  {
   "cell_type": "markdown",
   "metadata": {
    "deletable": false,
    "editable": false,
    "nbgrader": {
     "cell_type": "markdown",
     "checksum": "a390b89663edae34479421cabc7c0a4c",
     "grade": false,
     "grade_id": "cell-224870929a8f1178",
     "locked": true,
     "schema_version": 3,
     "solution": false,
     "task": false
    }
   },
   "source": [
    "### f. HT estimator\n",
    "Implement the HT estimator for the three sampling schemes. Given the selection probability $p$ for all cases, we will sample at least $n=100$ times to obtain distributions of some of our HT estimators, and to compare HT estimators with the empirical estimator (on the graph without any corrections). In other words, for each $p=0.3, 0.5$, and for each sampling scheme, obtain $n=100$ samples from the original network, calculate the HT estimator for the number triangles and for transitivity. For $p=0.5$ include also the empirical estimator, and for all plots include the true value. **Report your results in six plots**:\n",
    "\n",
    "- The distribution of estimator $\\hat{\\tau}_{\\triangle}^n$ for $p=0.3, 0.5$ and $\\hat{\\tau}_{\\triangle}$ for $p=0.5$.\n",
    "- The distribution of estimator $\\hat{\\tau}_{C}^n$ for $p=0.3, 0.5$ and $\\hat{\\tau}_{C}$ for $p=0.5$.\n",
    "- The distribution of estimator $\\hat{\\tau}_{\\triangle}^e$ for $p=0.3, 0.5$ and $\\hat{\\tau}_{\\triangle}$ for $p=0.5$.\n",
    "- The distribution of estimator $\\hat{\\tau}_{C}^e$ for $p=0.3, 0.5$ and $\\hat{\\tau}_{C}$ for $p=0.5$.\n",
    "- The distribution of estimator $\\hat{\\tau}_{\\triangle}^s$ for $p=0.3, 0.5$ and $\\hat{\\tau}_{\\triangle}$ for $p=0.5$.\n",
    "- The distribution of estimator $\\hat{\\tau}_{C}^s$ for $p=0.3, 0.5$ and $\\hat{\\tau}_{C}$ for $p=0.5$.\n",
    "\n",
    "**Elaborate** on the effect on sampling schemes and probabilities. Do the HT estimators lie near the true value? How do they vary? What are the main differences between sampling schemes? Do you notice anything particular about the sixth plot? If so, why is this?   \n",
    "\n",
    "**Hints:**\n",
    "Since we want to observe how different samples may arise from the same network, we need to take a large number of samples ($n=100$, for instance). However, while you are coding and testing it may be wise to use a smaller $n$. Keep in mind that if your code takes too much time to run on your computer, you can report results for a smaller $n$ or a smaller network."
   ]
  },
  {
   "cell_type": "code",
   "execution_count": 59,
   "metadata": {
    "deletable": false,
    "nbgrader": {
     "cell_type": "code",
     "checksum": "447a08b3e08d8befe0fdfdaa64063ab9",
     "grade": true,
     "grade_id": "cell-54ea177439225cde",
     "locked": false,
     "points": 0,
     "schema_version": 3,
     "solution": true,
     "task": false
    }
   },
   "outputs": [],
   "source": [
    "def ht_node_probabilities(p):\n",
    "    \"\"\"\n",
    "    Given the probability of sampling a node, returns the probabilities of sampling two-stars and triangles\n",
    "\n",
    "    Parameters\n",
    "    ---------------------\n",
    "    p: float\n",
    "    \"\"\"\n",
    "    pi_twostars = p ** 3\n",
    "    pi_triangles = p ** 3\n",
    "    #TODO write the probabilites of sampling twostars and triangles under node sampling\n",
    "    # YOUR CODE HERE\n",
    "    #raise NotImplementedError()\n",
    "    return pi_twostars, pi_triangles"
   ]
  },
  {
   "cell_type": "code",
   "execution_count": 60,
   "metadata": {
    "deletable": false,
    "nbgrader": {
     "cell_type": "code",
     "checksum": "ed9475fd44b8046392dc870301d399e6",
     "grade": true,
     "grade_id": "cell-eb0a798de25af8b5",
     "locked": false,
     "points": 0,
     "schema_version": 3,
     "solution": true,
     "task": false
    }
   },
   "outputs": [],
   "source": [
    "def ht_edge_probabilities(p):\n",
    "    \"\"\"\n",
    "    Given the probability of sampling an edge, returns the probabilities of sampling two-stars and triangles\n",
    "\n",
    "    Parameters\n",
    "    ---------------------\n",
    "    p: float\n",
    "    \"\"\"\n",
    "    pi_twostars = p ** 2\n",
    "    pi_triangles = p ** 3\n",
    "    #TODO write the probabilites of sampling twostars and triangles under edge sampling\n",
    "    # YOUR CODE HERE\n",
    "    #raise NotImplementedError()\n",
    "    return pi_twostars, pi_triangles"
   ]
  },
  {
   "cell_type": "code",
   "execution_count": 61,
   "metadata": {
    "deletable": false,
    "nbgrader": {
     "cell_type": "code",
     "checksum": "810f72b131746d2bffc50661cf037cc4",
     "grade": true,
     "grade_id": "cell-2dbbb646997b2e53",
     "locked": false,
     "points": 0,
     "schema_version": 3,
     "solution": true,
     "task": false
    }
   },
   "outputs": [],
   "source": [
    "def ht_star_probabilities(p):\n",
    "    \"\"\"\n",
    "    Given the probability of sampling a star, returns the probabilities of sampling two-stars and triangles\n",
    "\n",
    "    Parameters\n",
    "    ---------------------\n",
    "    p: float\n",
    "    \"\"\"\n",
    "    pi_twostars = p\n",
    "    pi_triangles = p ** 3 + p*p*(1-p)*3\n",
    "    ###TIP: #TODO write the probabilites of sampling twostars and triangles under star-sampling\n",
    "    # YOUR CODE HERE\n",
    "    #raise NotImplementedError()\n",
    "    return pi_twostars, pi_triangles"
   ]
  },
  {
   "cell_type": "code",
   "execution_count": 62,
   "metadata": {
    "deletable": false,
    "nbgrader": {
     "cell_type": "code",
     "checksum": "dbda5ba85bac4027d4e1d74876a15c18",
     "grade": true,
     "grade_id": "cell-781784f0ddf769af",
     "locked": false,
     "points": 0,
     "schema_version": 3,
     "solution": true,
     "task": false
    }
   },
   "outputs": [],
   "source": [
    "def horvitz_thompson(obs_values, pi):\n",
    "    \"\"\"\n",
    "    Returns the Horvitz-Thompson Estimator\n",
    "\n",
    "    Parameters\n",
    "    --------------------\n",
    "    obs_values: int or float, observed values from a sampled network\n",
    "    pi: float, observation probability\n",
    "    \"\"\"\n",
    "    ht = 0.\n",
    "    #TODO Write the HT estimator.\n",
    "    # YOUR CODE HERE\n",
    "    #raise NotImplementedError()\n",
    "    ht = obs_values / pi\n",
    "    return ht"
   ]
  },
  {
   "cell_type": "code",
   "execution_count": 63,
   "metadata": {
    "deletable": false,
    "nbgrader": {
     "cell_type": "code",
     "checksum": "714b9f0b62511817583c094aecfade35",
     "grade": true,
     "grade_id": "cell-f09bb75167f25d75",
     "locked": false,
     "points": 0,
     "schema_version": 3,
     "solution": true,
     "task": false
    }
   },
   "outputs": [],
   "source": [
    "def ht_estimators(g, p, n_samp, sampling_type, empirical=False):\n",
    "    \"\"\"\n",
    "    Function for obtaining n_samp samples from a network g and returning the HT estimates, given a sampling type and sampling probabilty p.\n",
    "    Returns three lists of n_samp, where each list contains HT estimates for transitivity and\n",
    "    number of two-stars, where the sampling.\n",
    "\n",
    "    Parameters\n",
    "    ------------------------\n",
    "    g: a networkx network\n",
    "    p: float, sampling probability\n",
    "    n_samp: int, number of samples to obtain\n",
    "    sampling_type: str, either 'nodes', 'edges' or 'stars'\n",
    "    empirical: bool, if True, then do not use HT estimators\n",
    "    \"\"\"\n",
    "    transitivity_estimates = []\n",
    "    triangles_estimates = []\n",
    "\n",
    "    for i in range(n_samp):\n",
    "\n",
    "        if sampling_type == 'nodes':\n",
    "            g_new = sample_nodes(g, p)\n",
    "            nodes = None\n",
    "            pi_twostars, pi_triangles = ht_node_probabilities(p)\n",
    "\n",
    "        elif sampling_type == 'edges':\n",
    "            g_new = sample_edges(g, p)\n",
    "            nodes = None\n",
    "            pi_twostars, pi_triangles = ht_edge_probabilities(p)\n",
    "\n",
    "        elif sampling_type == 'stars':\n",
    "            g_new, nodes = sample_stars(g, p)\n",
    "            pi_twostars, pi_triangles = ht_star_probabilities(p)\n",
    "        else:\n",
    "            raise ValueError(\"Invalid sampling_type, must be either 'nodes', 'edges' or 'stars'\")\n",
    "        #TODO: Count the statistics, build the HT estimators, plug-in for transitivity and save sampled value\n",
    "        #TODO: if empirical = True, simply do not use HT estimators\n",
    "        # YOUR CODE HERE\n",
    "        #raise NotImplementedError()\n",
    "        n_triangles = count_triangles(g_new)\n",
    "        n_twostars = count_twostars(g_new,nodes)\n",
    "        if empirical == True:\n",
    "            n_triangles = count_triangles(g_new)\n",
    "            n_twostars = count_twostars(g_new,nodes)\n",
    "        else:\n",
    "            n_triangles = horvitz_thompson(n_triangles,pi_triangles)\n",
    "            n_twostars = horvitz_thompson(n_twostars,pi_twostars)\n",
    "        transitivity_estimates.append(transitivity(n_triangles,n_twostars))\n",
    "        triangles_estimates.append(n_triangles)\n",
    "\n",
    "    return transitivity_estimates, triangles_estimates"
   ]
  },
  {
   "cell_type": "code",
   "execution_count": 64,
   "metadata": {
    "deletable": false,
    "editable": false,
    "nbgrader": {
     "cell_type": "code",
     "checksum": "b792aab1505818acf99b5e10a135d2af",
     "grade": false,
     "grade_id": "cell-04e7b7a6b0f3140c",
     "locked": true,
     "schema_version": 3,
     "solution": false,
     "task": false
    }
   },
   "outputs": [],
   "source": [
    "def plot_histograms(n_samp, sampling_type, p_empirical=.5):\n",
    "    \"\"\"\n",
    "    Plot exercise histograms for a number of samples n_samp and a sampling_type (nodes, edges or stars).\n",
    "    \"\"\"\n",
    "\n",
    "    fig = plt.figure(figsize=(8, 5))\n",
    "    probabilities = [ .3, .5]\n",
    "\n",
    "    estimator_name_triangles = r'$\\hat{\\tau}^' + sampling_type[0] + r'_{\\bigtriangleup}$'\n",
    "    ax1 = fig.add_subplot(2, 1, 1)\n",
    "    ax1.set_title('Estimators for triangles sampling {}, '.format(sampling_type) + estimator_name_triangles)\n",
    "    ax1.set_xlabel(estimator_name_triangles)\n",
    "\n",
    "    estimator_name_transit = r'$\\hat{\\tau}^' + sampling_type[0] + r'_C$'\n",
    "    ax2 = fig.add_subplot(2, 1, 2)\n",
    "    ax2.set_title('Estimators for transitivity sampling {}, '.format(sampling_type) + estimator_name_transit)\n",
    "    ax2.set_xlabel(estimator_name_transit)\n",
    "\n",
    "    #Plot HT estimates for different probabilities\n",
    "    for p in probabilities:\n",
    "        transit_est, triangles_est = ht_estimators(g, p, n_samp, sampling_type)\n",
    "        ax1.hist(triangles_est, 30, alpha=.5, density=True, label='p = {}'.format(p))\n",
    "        ax2.hist(transit_est, 30, alpha=.5, density=True, label='p = {}'.format(p))\n",
    "\n",
    "    #Obtain empirical estimates\n",
    "    transit_est, triangles_est = ht_estimators(g, p_empirical, n_samp, sampling_type, empirical=True)\n",
    "    ax1.hist(triangles_est, 30, alpha=.5, density=True, label='p_empirical = {}'.format(p_empirical))\n",
    "    ax2.hist(transit_est, 30, alpha=.5, density=True, label='p_empirical = {}'.format(p_empirical))\n",
    "\n",
    "    # Plot real values\n",
    "    ax1.axvline(n_triangles, color='r') # n_triangles as obtained for the full network\n",
    "    ax2.axvline(transit, color='r') # transit as obtained for the full network\n",
    "\n",
    "    ax1.legend(loc=0)\n",
    "    ax2.legend(loc=0)\n",
    "    fig.tight_layout()\n",
    "    fig.savefig('ht_estimator_sampling_{}.pdf'.format(sampling_type))"
   ]
  },
  {
   "cell_type": "code",
   "execution_count": 65,
   "metadata": {
    "deletable": false,
    "editable": false,
    "nbgrader": {
     "cell_type": "code",
     "checksum": "0fa235df4aa6f37e3bf3a8790d22f625",
     "grade": false,
     "grade_id": "cell-78809ee9d4105414",
     "locked": true,
     "schema_version": 3,
     "solution": false,
     "task": false
    }
   },
   "outputs": [
    {
     "data": {
      "image/png": "[encoded data removed]",
      "text/plain": [
       "<Figure size 576x360 with 2 Axes>"
      ]
     },
     "metadata": {
      "needs_background": "light"
     },
     "output_type": "display_data"
    },
    {
     "data": {
      "image/png": "[encoded data removed]",
      "text/plain": [
       "<Figure size 576x360 with 2 Axes>"
      ]
     },
     "metadata": {
      "needs_background": "light"
     },
     "output_type": "display_data"
    },
    {
     "data": {
      "image/png": "[encoded data removed]",
      "text/plain": [
       "<Figure size 576x360 with 2 Axes>"
      ]
     },
     "metadata": {
      "needs_background": "light"
     },
     "output_type": "display_data"
    }
   ],
   "source": [
    "# f)# Histograms for node sampling\n",
    "n_samp = 100\n",
    "plot_histograms(n_samp, 'nodes')\n",
    "\n",
    "# Histograms for edge sampling\n",
    "n_samp = 100\n",
    "plot_histograms(n_samp, 'edges')\n",
    "\n",
    "# Histograms for star sampling\n",
    "n_samp = 100\n",
    "plot_histograms(n_samp, 'stars', p_empirical=.5)"
   ]
  },
  {
   "cell_type": "markdown",
   "metadata": {
    "deletable": false,
    "editable": false,
    "nbgrader": {
     "cell_type": "markdown",
     "checksum": "6ab8438fdcbc4dcfc4153a57093cdc07",
     "grade": false,
     "grade_id": "cell-4374f44c8cd9857a",
     "locked": true,
     "schema_version": 3,
     "solution": false,
     "task": false
    }
   },
   "source": [
    "### g. Use of real data\n",
    "Let us now put the estimators we derived in use for real data. Below is a description of two network data sets and their collection methods. **Match** the datasets with one of the three sampling methods used and HT estimators we derived in this exercise. Note that you might need to do some assumptions about the uniformity of the sampling. **Calculate** the empirical esitimator and the plug-in HT estimator for the transitivities of these data sets.\n",
    "\n",
    "- A social communication network was built based on call data records of a mobile phone operator. These records contain all the incoming and outcoming calls the customers make and receive, but no data for the calls between pairs of customers who are both with a competitor. The network is built in a way that each phone number appearing in the data becomes a node and there is a link between them if there is at least one call between the numbers. The underlying network we would be interested in is the communication network between all the customers of all companies in the country it operates. The company has $6,421,148$ customers which amounts to a market share of 20\\% of customers in the country. The network contains $75,048,105$ nodes, $529,816,040$ links, and there are $153,328,324$ triangles and $15,856,481,566$ two-stars around our customers. Note that since our network contains all incoming and outgoing calls - including numbers in other countries, the number of customers is not equal to $20\\%$ of the network. \n",
    "- Using the same mobile phone data as above, we build a social network between the customers of the company. That is, we leave out the phone numbers which are not operated by our mobile phone operator. The underlying network we would be interested is the actual contact network between the company customers. Based on a small questionnaire we have made, on average only $10\\%$ of the contacts take place via mobile phones in that country at that time. The network contains $6,421,148$ nodes, $26,415,938$ links, $11,794,486$ triangles and $634,259,263$ two-stars."
   ]
  }
 ],
 "metadata": {
  "kernelspec": {
   "display_name": "Python 3",
   "language": "python",
   "name": "python3"
  },
  "language_info": {
   "codemirror_mode": {
    "name": "ipython",
    "version": 3
   },
   "file_extension": ".py",
   "mimetype": "text/x-python",
   "name": "python",
   "nbconvert_exporter": "python",
   "pygments_lexer": "ipython3",
   "version": "3.7.3"
  },
  "varInspector": {
   "cols": {
    "lenName": 16,
    "lenType": 16,
    "lenVar": 40
   },
   "kernels_config": {
    "python": {
     "delete_cmd_postfix": "",
     "delete_cmd_prefix": "del ",
     "library": "var_list.py",
     "varRefreshCmd": "print(var_dic_list())"
    },
    "r": {
     "delete_cmd_postfix": ") ",
     "delete_cmd_prefix": "rm(",
     "library": "var_list.r",
     "varRefreshCmd": "cat(var_dic_list()) "
    }
   },
   "types_to_exclude": [
    "module",
    "function",
    "builtin_function_or_method",
    "instance",
    "_Feature"
   ],
   "window_display": false
  }
 },
 "nbformat": 4,
 "nbformat_minor": 2
}
