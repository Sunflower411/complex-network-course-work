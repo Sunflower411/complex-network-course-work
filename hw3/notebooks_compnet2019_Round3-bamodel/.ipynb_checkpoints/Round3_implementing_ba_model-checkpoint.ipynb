{
 "cells": [
  {
   "cell_type": "markdown",
   "metadata": {
    "deletable": false,
    "editable": false,
    "nbgrader": {
     "cell_type": "markdown",
     "checksum": "55e48a7d9948d76d196030a9f66321e2",
     "grade": false,
     "grade_id": "cell-39c6f5c60e441722",
     "locked": true,
     "schema_version": 3,
     "solution": false,
     "task": false
    }
   },
   "source": [
    "# Round 3. Implementing the Barabási-Albert (BA) model\n",
    "The Barabási-Albert scale-free network model is a model of network growth, where new nodes continuously enter the network and make links to existing nodes with a probability that is linearly proportional to their degree. The steps required for generating a Barabási-Albert scale-free network with $N$ nodes are as follows:\n",
    "\n",
    "- Create a small seed network which has at least $m$ nodes, where $m$ is the number of links a new node creates to already existing nodes.  In this exercise, use a 3-clique as the seed network.\n",
    "- Add new nodes to the network until your network has $N$ nodes, such that each entering node has $m$ links and connects to existing nodes proportional to their degrees.\n",
    "\n",
    "In this exercise, we will implement the model and investigate the networks it generates. The template file `implementing_ba_model.py` is provided which covers most of the plotting and binning required for this exercise. This notebook has the same functions as the template and can be used for solving the exercise too. This would let you focus on the actual implementation of the model. Using the template or the notebook is \\textbf{optional}. Then you only need to fill in the required functions. Some of the functions do NOT need modifications. You may start your solution after the subtitle \"**Begin of the Exercise**\" down below. \n",
    "\n",
    "In addition to returning a short report of your results (including the visualizations), return also your commented Python code or notebook. Remember to label the axes in your figures!"
   ]
  },
  {
   "cell_type": "code",
   "execution_count": null,
   "metadata": {
    "deletable": false,
    "editable": false,
    "nbgrader": {
     "cell_type": "code",
     "checksum": "0edc69531d396407d38d732abcc8e972",
     "grade": false,
     "grade_id": "cell-c417029f86df22d9",
     "locked": true,
     "schema_version": 3,
     "solution": false,
     "task": false
    }
   },
   "outputs": [],
   "source": [
    "import networkx as nx\n",
    "import numpy as np\n",
    "import matplotlib.pyplot as plt\n",
    "\n",
    "from scipy.stats import binned_statistic"
   ]
  },
  {
   "cell_type": "code",
   "execution_count": null,
   "metadata": {
    "deletable": false,
    "editable": false,
    "nbgrader": {
     "cell_type": "code",
     "checksum": "417cf21a93f6a04cfdbe31aad3ffc8fd",
     "grade": false,
     "grade_id": "cell-15116fd91f60a84f",
     "locked": true,
     "schema_version": 3,
     "solution": false,
     "task": false
    }
   },
   "outputs": [],
   "source": [
    "def lin_log_bins(max_degree):\n",
    "    # lin-log binning: for k=1..10 use linear bins, then logarithmic bins\n",
    "    # have the number of logbins such that there are 10 bins per decade\n",
    "\n",
    "    num_logbins = int(np.log10(1.5 * max_degree) - np.log10(1.5)) * 10\n",
    "\n",
    "    # generate log bins from k=1.5 to k=1.5*max(degree)\n",
    "    bins = np.logspace(\n",
    "        np.log10(1.5), np.log10(1.5 * max_degree), num_logbins)\n",
    "\n",
    "    return bins"
   ]
  },
  {
   "cell_type": "markdown",
   "metadata": {
    "deletable": false,
    "editable": false,
    "nbgrader": {
     "cell_type": "markdown",
     "checksum": "23d0ae3160e6ef8b6c9868ea32cd4673",
     "grade": false,
     "grade_id": "cell-3489ff4dec3fa334",
     "locked": true,
     "schema_version": 3,
     "solution": false,
     "task": false
    }
   },
   "source": [
    "# Begin of the exercise\n",
    "\n",
    "Write your code here to implement BA networks"
   ]
  },
  {
   "cell_type": "markdown",
   "metadata": {
    "deletable": false,
    "editable": false,
    "nbgrader": {
     "cell_type": "markdown",
     "checksum": "c757767787f0d45b3953517f8cf2f44d",
     "grade": false,
     "grade_id": "cell-57c51c16a7717dfe",
     "locked": true,
     "schema_version": 3,
     "solution": false,
     "task": false
    }
   },
   "source": [
    "### a. BA network implementation\n",
    "- Implement a Python function for generating Barabási-Albert networks. \n",
    "- Then generate a network with (N=200) and (m=1) (starting from a 3-clique seed network -- the network is thus tree-like except for the initial clique).\n",
    "- Write down the degree of the node with the highest degree in your generated network.\n",
    "- Write down the total number of links in your generated network.\n",
    "- Visualize the network with networkx using the spring layout i.e.`nx.draw_spring(G)`. You should be able to spot some nodes that have many connections, while most of the nodes have few connections.\n",
    "\n",
    "**Hints**: \n",
    "- In general, the seed network can be anything, *e.g.* a clique of size $m+1$, as long as it has enough nodes for the first incoming node to attach to with $m$ links. In this exercise, *use a 3-clique*.\n",
    "- The easiest way of picking nodes with probability proportional to their degree is to use the `p` keyword in function `np.random.choice` to assign probability of selection to each element and the `size` keyword to indicate how many nodes to sample. Remember to set the `replace` keyword to `False` to make sure you don't get any node more than once."
   ]
  },
  {
   "cell_type": "code",
   "execution_count": null,
   "metadata": {
    "deletable": false,
    "nbgrader": {
     "cell_type": "code",
     "checksum": "9121c5ab77dddd4b1274985f005931b9",
     "grade": true,
     "grade_id": "cell-1341efc3d99eac51",
     "locked": false,
     "points": 0,
     "schema_version": 3,
     "solution": true,
     "task": false
    }
   },
   "outputs": [],
   "source": [
    "def ba_network(n, m, seedsize=3):\n",
    "    # Generate initial small seed network (clique of seedside nodes)\n",
    "    net = nx.complete_graph(seedsize)\n",
    "    for node in range n:\n",
    "        \n",
    "\n",
    "    # Grow the network here\n",
    "    # YOUR CODE HERE\n",
    "    raise NotImplementedError()\n",
    "\n",
    "    return net"
   ]
  },
  {
   "cell_type": "code",
   "execution_count": null,
   "metadata": {
    "deletable": false,
    "editable": false,
    "nbgrader": {
     "cell_type": "code",
     "checksum": "b3a88fec7aa33092f2b9f3b294c94c02",
     "grade": false,
     "grade_id": "cell-4dff44fea4c5ee44",
     "locked": true,
     "schema_version": 3,
     "solution": false,
     "task": false
    }
   },
   "outputs": [],
   "source": [
    "np.random.seed(42)\n",
    "\n",
    "fig = plt.figure()\n",
    "ax = fig.add_subplot(111)\n",
    "\n",
    "net = ba_network(200, 1)\n",
    "nodes = net.nodes()\n",
    "degrees_dict = nx.degree(net)\n",
    "degrees = [degrees_dict[node] for node in nodes]\n",
    "\n",
    "print(\"The maximum degree is: \", max(degrees))\n",
    "print(\"The total number of edges is: \", len(net.edges()))\n",
    "\n",
    "nx.draw_spring(\n",
    "    net, node_size=100, node_color=degrees, cmap='autumn',\n",
    "    vmin=np.min(degrees), vmax=np.max(degrees))\n",
    "ax.set_aspect('equal')\n",
    "\n",
    "figure_filename = 'BA_visualized.pdf'\n",
    "\n",
    "fig.savefig(figure_filename) # or just use plt.show() and save manually\n"
   ]
  },
  {
   "cell_type": "markdown",
   "metadata": {
    "deletable": false,
    "editable": false,
    "nbgrader": {
     "cell_type": "markdown",
     "checksum": "487c3bf99f489a9187ca05ed690e982f",
     "grade": false,
     "grade_id": "cell-d7e8f425556dc3e0",
     "locked": true,
     "schema_version": 3,
     "solution": false,
     "task": false
    }
   },
   "source": [
    "### b. BA network probability distribution\n",
    "- Generate a new network using parameters $N=10^4$ with $m=2$ and plot the logarithmically binned probability density function for degree, $P(k)$ (on double logarithmic axes, `ax.loglog`)\n",
    "- Compare your result with the theoretical prediction of $P(k)=2m\\left(m+1\\right)/\\left[k\\left(k+1\\right)\\left(k+2\\right)\\right]$ (proved in the next exercise). To do this, plot both the experimental and theoretical distributions on the same axes.\n",
    "\n",
    "**Hints**:\n",
    "- You can get a list of the degrees of a network \\code{G} with `degrees=nx.degree(G).values()`\n",
    "- For plotting the binned degree PDF, have a look at the materials for the binning tutorial in MyCourses.\n",
    "- There is no simple rule of thumb for selecting the number of bins. However, ideally there should be no empty bins, but on the other hand one would like to have as many bins as possible to best present the shape of the true distribution.\n",
    "- Generating the results should take a few seconds. If your code is taking too long to run, there are probably ways to improve its efficiency.\n",
    "- For the interested: When plotting the degree PDF, you may end up with empty bins with small values of $k$. (Consider e.g. if you had a bin [3.1, 3.9]: this bin would always have value zero.) To circumvent this, it is often practical to bin degree-distributions using  `lin-log` bins: [0.5, 1.5, 2.5, \\ldots, 9.5, 10.5, 12.5, 16.5, \\ldots ] so that one does not end up with empty bins with small values of $k$. \\textbf{If you wish}, you may bin your data using logarithmic bins or this more sophisticated approach of `lin-log` bins."
   ]
  },
  {
   "cell_type": "code",
   "execution_count": null,
   "metadata": {
    "deletable": false,
    "editable": false,
    "nbgrader": {
     "cell_type": "code",
     "checksum": "c1667f9d141359c6259cbade093706d6",
     "grade": false,
     "grade_id": "cell-3af018ea3bd02a50",
     "locked": true,
     "schema_version": 3,
     "solution": false,
     "task": false
    }
   },
   "outputs": [],
   "source": [
    "net = ba_network(10000, 2)\n",
    "degrees = [deg for _, deg in nx.degree(net)]\n",
    "# if you are using an older version of networkx where the return value of nx.degree is a dict instead of\n",
    "# a DegreeView, you will get a type error from the above line. To fix, change it to:\n",
    "# degrees = list(nx.degree(net).values())\n",
    "\n",
    "fig = plt.figure()\n",
    "ax = fig.add_subplot(111)\n",
    "\n",
    "# so use np.histogram to get histogram and bin edges\n",
    "bins = lin_log_bins(max(degrees))\n",
    "pk, bin_edges = np.histogram(degrees, bins=bins, density=True)\n",
    "\n",
    "bincenters, _, _ = binned_statistic( degrees, degrees, statistic='mean', bins=bins)\n",
    "ax.set_xlabel('Degree k')\n",
    "ax.set_ylabel('P(k)')\n",
    "\n",
    "ax.loglog(bincenters, pk, 'ro', label='Simulated')\n",
    "ax.loglog(bins, 2 * 2 * (2 + 1) /\n",
    "            (bins * (bins + 1) * (bins + 2)),\n",
    "            label='Theoretical')\n",
    "\n",
    "ax.legend()\n",
    "\n",
    "figure_filename = 'BA_degree_distribution.pdf'\n",
    "\n",
    "fig.savefig(figure_filename) # or just use plt.show() and save manually"
   ]
  }
 ],
 "metadata": {
  "kernelspec": {
   "display_name": "Python 3",
   "language": "python",
   "name": "python3"
  },
  "language_info": {
   "codemirror_mode": {
    "name": "ipython",
    "version": 3
   },
   "file_extension": ".py",
   "mimetype": "text/x-python",
   "name": "python",
   "nbconvert_exporter": "python",
   "pygments_lexer": "ipython3",
   "version": "3.7.3"
  },
  "varInspector": {
   "cols": {
    "lenName": 16,
    "lenType": 16,
    "lenVar": 40
   },
   "kernels_config": {
    "python": {
     "delete_cmd_postfix": "",
     "delete_cmd_prefix": "del ",
     "library": "var_list.py",
     "varRefreshCmd": "print(var_dic_list())"
    },
    "r": {
     "delete_cmd_postfix": ") ",
     "delete_cmd_prefix": "rm(",
     "library": "var_list.r",
     "varRefreshCmd": "cat(var_dic_list()) "
    }
   },
   "types_to_exclude": [
    "module",
    "function",
    "builtin_function_or_method",
    "instance",
    "_Feature"
   ],
   "window_display": false
  }
 },
 "nbformat": 4,
 "nbformat_minor": 2
}
